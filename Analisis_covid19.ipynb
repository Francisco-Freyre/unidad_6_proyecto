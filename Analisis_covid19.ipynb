{
 "cells": [
  {
   "cell_type": "code",
   "execution_count": 1,
   "metadata": {},
   "outputs": [],
   "source": [
    "import pandas as pd\n",
    "import matplotlib.pyplot as plt\n",
    "%matplotlib inline"
   ]
  },
  {
   "cell_type": "code",
   "execution_count": 2,
   "metadata": {},
   "outputs": [],
   "source": [
    "datos=pd.read_csv('200809COVID19MEXICO.csv', encoding='latin1')"
   ]
  },
  {
   "cell_type": "code",
   "execution_count": 3,
   "metadata": {},
   "outputs": [
    {
     "name": "stdout",
     "output_type": "stream",
     "text": [
      "<class 'pandas.core.frame.DataFrame'>\n",
      "RangeIndex: 1091695 entries, 0 to 1091694\n",
      "Data columns (total 35 columns):\n",
      " #   Column               Non-Null Count    Dtype \n",
      "---  ------               --------------    ----- \n",
      " 0   FECHA_ACTUALIZACION  1091695 non-null  object\n",
      " 1   ID_REGISTRO          1091695 non-null  object\n",
      " 2   ORIGEN               1091695 non-null  int64 \n",
      " 3   SECTOR               1091695 non-null  int64 \n",
      " 4   ENTIDAD_UM           1091695 non-null  int64 \n",
      " 5   SEXO                 1091695 non-null  int64 \n",
      " 6   ENTIDAD_NAC          1091695 non-null  int64 \n",
      " 7   ENTIDAD_RES          1091695 non-null  int64 \n",
      " 8   MUNICIPIO_RES        1091695 non-null  int64 \n",
      " 9   TIPO_PACIENTE        1091695 non-null  int64 \n",
      " 10  FECHA_INGRESO        1091695 non-null  object\n",
      " 11  FECHA_SINTOMAS       1091695 non-null  object\n",
      " 12  FECHA_DEF            1091695 non-null  object\n",
      " 13  INTUBADO             1091695 non-null  int64 \n",
      " 14  NEUMONIA             1091695 non-null  int64 \n",
      " 15  EDAD                 1091695 non-null  int64 \n",
      " 16  NACIONALIDAD         1091695 non-null  int64 \n",
      " 17  EMBARAZO             1091695 non-null  int64 \n",
      " 18  HABLA_LENGUA_INDIG   1091695 non-null  int64 \n",
      " 19  DIABETES             1091695 non-null  int64 \n",
      " 20  EPOC                 1091695 non-null  int64 \n",
      " 21  ASMA                 1091695 non-null  int64 \n",
      " 22  INMUSUPR             1091695 non-null  int64 \n",
      " 23  HIPERTENSION         1091695 non-null  int64 \n",
      " 24  OTRA_COM             1091695 non-null  int64 \n",
      " 25  CARDIOVASCULAR       1091695 non-null  int64 \n",
      " 26  OBESIDAD             1091695 non-null  int64 \n",
      " 27  RENAL_CRONICA        1091695 non-null  int64 \n",
      " 28  TABAQUISMO           1091695 non-null  int64 \n",
      " 29  OTRO_CASO            1091695 non-null  int64 \n",
      " 30  RESULTADO            1091695 non-null  int64 \n",
      " 31  MIGRANTE             1091695 non-null  int64 \n",
      " 32  PAIS_NACIONALIDAD    1091695 non-null  object\n",
      " 33  PAIS_ORIGEN          1091695 non-null  object\n",
      " 34  UCI                  1091695 non-null  int64 \n",
      "dtypes: int64(28), object(7)\n",
      "memory usage: 291.5+ MB\n"
     ]
    }
   ],
   "source": [
    "datos.info()"
   ]
  },
  {
   "cell_type": "code",
   "execution_count": 4,
   "metadata": {},
   "outputs": [
    {
     "data": {
      "text/html": [
       "<div>\n",
       "<style scoped>\n",
       "    .dataframe tbody tr th:only-of-type {\n",
       "        vertical-align: middle;\n",
       "    }\n",
       "\n",
       "    .dataframe tbody tr th {\n",
       "        vertical-align: top;\n",
       "    }\n",
       "\n",
       "    .dataframe thead th {\n",
       "        text-align: right;\n",
       "    }\n",
       "</style>\n",
       "<table border=\"1\" class=\"dataframe\">\n",
       "  <thead>\n",
       "    <tr style=\"text-align: right;\">\n",
       "      <th></th>\n",
       "      <th>FECHA_ACTUALIZACION</th>\n",
       "      <th>ID_REGISTRO</th>\n",
       "      <th>ORIGEN</th>\n",
       "      <th>SECTOR</th>\n",
       "      <th>ENTIDAD_UM</th>\n",
       "      <th>SEXO</th>\n",
       "      <th>ENTIDAD_NAC</th>\n",
       "      <th>ENTIDAD_RES</th>\n",
       "      <th>MUNICIPIO_RES</th>\n",
       "      <th>TIPO_PACIENTE</th>\n",
       "      <th>...</th>\n",
       "      <th>CARDIOVASCULAR</th>\n",
       "      <th>OBESIDAD</th>\n",
       "      <th>RENAL_CRONICA</th>\n",
       "      <th>TABAQUISMO</th>\n",
       "      <th>OTRO_CASO</th>\n",
       "      <th>RESULTADO</th>\n",
       "      <th>MIGRANTE</th>\n",
       "      <th>PAIS_NACIONALIDAD</th>\n",
       "      <th>PAIS_ORIGEN</th>\n",
       "      <th>UCI</th>\n",
       "    </tr>\n",
       "  </thead>\n",
       "  <tbody>\n",
       "    <tr>\n",
       "      <th>0</th>\n",
       "      <td>2020-08-09</td>\n",
       "      <td>11c49c</td>\n",
       "      <td>2</td>\n",
       "      <td>3</td>\n",
       "      <td>2</td>\n",
       "      <td>1</td>\n",
       "      <td>2</td>\n",
       "      <td>2</td>\n",
       "      <td>2</td>\n",
       "      <td>1</td>\n",
       "      <td>...</td>\n",
       "      <td>2</td>\n",
       "      <td>2</td>\n",
       "      <td>2</td>\n",
       "      <td>2</td>\n",
       "      <td>1</td>\n",
       "      <td>1</td>\n",
       "      <td>99</td>\n",
       "      <td>MÃ©xico</td>\n",
       "      <td>99</td>\n",
       "      <td>97</td>\n",
       "    </tr>\n",
       "    <tr>\n",
       "      <th>1</th>\n",
       "      <td>2020-08-09</td>\n",
       "      <td>144935</td>\n",
       "      <td>2</td>\n",
       "      <td>3</td>\n",
       "      <td>2</td>\n",
       "      <td>2</td>\n",
       "      <td>26</td>\n",
       "      <td>2</td>\n",
       "      <td>2</td>\n",
       "      <td>1</td>\n",
       "      <td>...</td>\n",
       "      <td>2</td>\n",
       "      <td>2</td>\n",
       "      <td>2</td>\n",
       "      <td>2</td>\n",
       "      <td>1</td>\n",
       "      <td>1</td>\n",
       "      <td>99</td>\n",
       "      <td>MÃ©xico</td>\n",
       "      <td>99</td>\n",
       "      <td>97</td>\n",
       "    </tr>\n",
       "    <tr>\n",
       "      <th>2</th>\n",
       "      <td>2020-08-09</td>\n",
       "      <td>1bf200</td>\n",
       "      <td>2</td>\n",
       "      <td>4</td>\n",
       "      <td>9</td>\n",
       "      <td>1</td>\n",
       "      <td>9</td>\n",
       "      <td>9</td>\n",
       "      <td>15</td>\n",
       "      <td>2</td>\n",
       "      <td>...</td>\n",
       "      <td>2</td>\n",
       "      <td>2</td>\n",
       "      <td>2</td>\n",
       "      <td>2</td>\n",
       "      <td>99</td>\n",
       "      <td>1</td>\n",
       "      <td>99</td>\n",
       "      <td>MÃ©xico</td>\n",
       "      <td>99</td>\n",
       "      <td>2</td>\n",
       "    </tr>\n",
       "    <tr>\n",
       "      <th>3</th>\n",
       "      <td>2020-08-09</td>\n",
       "      <td>010133</td>\n",
       "      <td>2</td>\n",
       "      <td>4</td>\n",
       "      <td>26</td>\n",
       "      <td>1</td>\n",
       "      <td>26</td>\n",
       "      <td>26</td>\n",
       "      <td>55</td>\n",
       "      <td>1</td>\n",
       "      <td>...</td>\n",
       "      <td>2</td>\n",
       "      <td>2</td>\n",
       "      <td>2</td>\n",
       "      <td>2</td>\n",
       "      <td>99</td>\n",
       "      <td>1</td>\n",
       "      <td>99</td>\n",
       "      <td>MÃ©xico</td>\n",
       "      <td>99</td>\n",
       "      <td>97</td>\n",
       "    </tr>\n",
       "    <tr>\n",
       "      <th>4</th>\n",
       "      <td>2020-08-09</td>\n",
       "      <td>1a1635</td>\n",
       "      <td>2</td>\n",
       "      <td>3</td>\n",
       "      <td>15</td>\n",
       "      <td>2</td>\n",
       "      <td>15</td>\n",
       "      <td>15</td>\n",
       "      <td>33</td>\n",
       "      <td>2</td>\n",
       "      <td>...</td>\n",
       "      <td>2</td>\n",
       "      <td>1</td>\n",
       "      <td>2</td>\n",
       "      <td>2</td>\n",
       "      <td>1</td>\n",
       "      <td>1</td>\n",
       "      <td>99</td>\n",
       "      <td>MÃ©xico</td>\n",
       "      <td>99</td>\n",
       "      <td>2</td>\n",
       "    </tr>\n",
       "  </tbody>\n",
       "</table>\n",
       "<p>5 rows × 35 columns</p>\n",
       "</div>"
      ],
      "text/plain": [
       "  FECHA_ACTUALIZACION ID_REGISTRO  ORIGEN  SECTOR  ENTIDAD_UM  SEXO  \\\n",
       "0          2020-08-09      11c49c       2       3           2     1   \n",
       "1          2020-08-09      144935       2       3           2     2   \n",
       "2          2020-08-09      1bf200       2       4           9     1   \n",
       "3          2020-08-09      010133       2       4          26     1   \n",
       "4          2020-08-09      1a1635       2       3          15     2   \n",
       "\n",
       "   ENTIDAD_NAC  ENTIDAD_RES  MUNICIPIO_RES  TIPO_PACIENTE  ... CARDIOVASCULAR  \\\n",
       "0            2            2              2              1  ...              2   \n",
       "1           26            2              2              1  ...              2   \n",
       "2            9            9             15              2  ...              2   \n",
       "3           26           26             55              1  ...              2   \n",
       "4           15           15             33              2  ...              2   \n",
       "\n",
       "  OBESIDAD RENAL_CRONICA  TABAQUISMO  OTRO_CASO  RESULTADO  MIGRANTE  \\\n",
       "0        2             2           2          1          1        99   \n",
       "1        2             2           2          1          1        99   \n",
       "2        2             2           2         99          1        99   \n",
       "3        2             2           2         99          1        99   \n",
       "4        1             2           2          1          1        99   \n",
       "\n",
       "   PAIS_NACIONALIDAD  PAIS_ORIGEN  UCI  \n",
       "0            MÃ©xico           99   97  \n",
       "1            MÃ©xico           99   97  \n",
       "2            MÃ©xico           99    2  \n",
       "3            MÃ©xico           99   97  \n",
       "4            MÃ©xico           99    2  \n",
       "\n",
       "[5 rows x 35 columns]"
      ]
     },
     "execution_count": 4,
     "metadata": {},
     "output_type": "execute_result"
    }
   ],
   "source": [
    "datos.head()"
   ]
  },
  {
   "cell_type": "code",
   "execution_count": 5,
   "metadata": {},
   "outputs": [
    {
     "data": {
      "text/html": [
       "<div>\n",
       "<style scoped>\n",
       "    .dataframe tbody tr th:only-of-type {\n",
       "        vertical-align: middle;\n",
       "    }\n",
       "\n",
       "    .dataframe tbody tr th {\n",
       "        vertical-align: top;\n",
       "    }\n",
       "\n",
       "    .dataframe thead th {\n",
       "        text-align: right;\n",
       "    }\n",
       "</style>\n",
       "<table border=\"1\" class=\"dataframe\">\n",
       "  <thead>\n",
       "    <tr style=\"text-align: right;\">\n",
       "      <th></th>\n",
       "      <th>ENTIDAD_UM</th>\n",
       "      <th>SEXO</th>\n",
       "      <th>ENTIDAD_RES</th>\n",
       "      <th>MUNICIPIO_RES</th>\n",
       "      <th>TIPO_PACIENTE</th>\n",
       "      <th>FECHA_INGRESO</th>\n",
       "      <th>FECHA_SINTOMAS</th>\n",
       "      <th>FECHA_DEF</th>\n",
       "      <th>INTUBADO</th>\n",
       "      <th>NEUMONIA</th>\n",
       "      <th>...</th>\n",
       "      <th>INMUSUPR</th>\n",
       "      <th>HIPERTENSION</th>\n",
       "      <th>OTRA_COM</th>\n",
       "      <th>CARDIOVASCULAR</th>\n",
       "      <th>OBESIDAD</th>\n",
       "      <th>RENAL_CRONICA</th>\n",
       "      <th>TABAQUISMO</th>\n",
       "      <th>OTRO_CASO</th>\n",
       "      <th>RESULTADO</th>\n",
       "      <th>MIGRANTE</th>\n",
       "    </tr>\n",
       "  </thead>\n",
       "  <tbody>\n",
       "    <tr>\n",
       "      <th>0</th>\n",
       "      <td>2</td>\n",
       "      <td>1</td>\n",
       "      <td>2</td>\n",
       "      <td>2</td>\n",
       "      <td>1</td>\n",
       "      <td>2020-05-18</td>\n",
       "      <td>2020-05-15</td>\n",
       "      <td>9999-99-99</td>\n",
       "      <td>97</td>\n",
       "      <td>2</td>\n",
       "      <td>...</td>\n",
       "      <td>2</td>\n",
       "      <td>1</td>\n",
       "      <td>2</td>\n",
       "      <td>2</td>\n",
       "      <td>2</td>\n",
       "      <td>2</td>\n",
       "      <td>2</td>\n",
       "      <td>1</td>\n",
       "      <td>1</td>\n",
       "      <td>99</td>\n",
       "    </tr>\n",
       "    <tr>\n",
       "      <th>1</th>\n",
       "      <td>2</td>\n",
       "      <td>2</td>\n",
       "      <td>2</td>\n",
       "      <td>2</td>\n",
       "      <td>1</td>\n",
       "      <td>2020-05-26</td>\n",
       "      <td>2020-05-22</td>\n",
       "      <td>9999-99-99</td>\n",
       "      <td>97</td>\n",
       "      <td>2</td>\n",
       "      <td>...</td>\n",
       "      <td>2</td>\n",
       "      <td>2</td>\n",
       "      <td>2</td>\n",
       "      <td>2</td>\n",
       "      <td>2</td>\n",
       "      <td>2</td>\n",
       "      <td>2</td>\n",
       "      <td>1</td>\n",
       "      <td>1</td>\n",
       "      <td>99</td>\n",
       "    </tr>\n",
       "    <tr>\n",
       "      <th>2</th>\n",
       "      <td>9</td>\n",
       "      <td>1</td>\n",
       "      <td>9</td>\n",
       "      <td>15</td>\n",
       "      <td>2</td>\n",
       "      <td>2020-04-09</td>\n",
       "      <td>2020-04-09</td>\n",
       "      <td>9999-99-99</td>\n",
       "      <td>2</td>\n",
       "      <td>2</td>\n",
       "      <td>...</td>\n",
       "      <td>2</td>\n",
       "      <td>1</td>\n",
       "      <td>2</td>\n",
       "      <td>2</td>\n",
       "      <td>2</td>\n",
       "      <td>2</td>\n",
       "      <td>2</td>\n",
       "      <td>99</td>\n",
       "      <td>1</td>\n",
       "      <td>99</td>\n",
       "    </tr>\n",
       "    <tr>\n",
       "      <th>3</th>\n",
       "      <td>26</td>\n",
       "      <td>1</td>\n",
       "      <td>26</td>\n",
       "      <td>55</td>\n",
       "      <td>1</td>\n",
       "      <td>2020-03-23</td>\n",
       "      <td>2020-03-12</td>\n",
       "      <td>9999-99-99</td>\n",
       "      <td>97</td>\n",
       "      <td>1</td>\n",
       "      <td>...</td>\n",
       "      <td>2</td>\n",
       "      <td>2</td>\n",
       "      <td>2</td>\n",
       "      <td>2</td>\n",
       "      <td>2</td>\n",
       "      <td>2</td>\n",
       "      <td>2</td>\n",
       "      <td>99</td>\n",
       "      <td>1</td>\n",
       "      <td>99</td>\n",
       "    </tr>\n",
       "    <tr>\n",
       "      <th>4</th>\n",
       "      <td>15</td>\n",
       "      <td>2</td>\n",
       "      <td>15</td>\n",
       "      <td>33</td>\n",
       "      <td>2</td>\n",
       "      <td>2020-05-24</td>\n",
       "      <td>2020-05-20</td>\n",
       "      <td>2020-06-12</td>\n",
       "      <td>1</td>\n",
       "      <td>1</td>\n",
       "      <td>...</td>\n",
       "      <td>2</td>\n",
       "      <td>2</td>\n",
       "      <td>2</td>\n",
       "      <td>2</td>\n",
       "      <td>1</td>\n",
       "      <td>2</td>\n",
       "      <td>2</td>\n",
       "      <td>1</td>\n",
       "      <td>1</td>\n",
       "      <td>99</td>\n",
       "    </tr>\n",
       "  </tbody>\n",
       "</table>\n",
       "<p>5 rows × 24 columns</p>\n",
       "</div>"
      ],
      "text/plain": [
       "   ENTIDAD_UM  SEXO  ENTIDAD_RES  MUNICIPIO_RES  TIPO_PACIENTE FECHA_INGRESO  \\\n",
       "0           2     1            2              2              1    2020-05-18   \n",
       "1           2     2            2              2              1    2020-05-26   \n",
       "2           9     1            9             15              2    2020-04-09   \n",
       "3          26     1           26             55              1    2020-03-23   \n",
       "4          15     2           15             33              2    2020-05-24   \n",
       "\n",
       "  FECHA_SINTOMAS   FECHA_DEF  INTUBADO  NEUMONIA  ...  INMUSUPR  HIPERTENSION  \\\n",
       "0     2020-05-15  9999-99-99        97         2  ...         2             1   \n",
       "1     2020-05-22  9999-99-99        97         2  ...         2             2   \n",
       "2     2020-04-09  9999-99-99         2         2  ...         2             1   \n",
       "3     2020-03-12  9999-99-99        97         1  ...         2             2   \n",
       "4     2020-05-20  2020-06-12         1         1  ...         2             2   \n",
       "\n",
       "   OTRA_COM  CARDIOVASCULAR  OBESIDAD  RENAL_CRONICA  TABAQUISMO  OTRO_CASO  \\\n",
       "0         2               2         2              2           2          1   \n",
       "1         2               2         2              2           2          1   \n",
       "2         2               2         2              2           2         99   \n",
       "3         2               2         2              2           2         99   \n",
       "4         2               2         1              2           2          1   \n",
       "\n",
       "   RESULTADO  MIGRANTE  \n",
       "0          1        99  \n",
       "1          1        99  \n",
       "2          1        99  \n",
       "3          1        99  \n",
       "4          1        99  \n",
       "\n",
       "[5 rows x 24 columns]"
      ]
     },
     "execution_count": 5,
     "metadata": {},
     "output_type": "execute_result"
    }
   ],
   "source": [
    "datos.drop(['FECHA_ACTUALIZACION', 'ID_REGISTRO', 'HABLA_LENGUA_INDIG', 'PAIS_NACIONALIDAD', 'PAIS_ORIGEN', 'UCI','ORIGEN', 'SECTOR', 'ENTIDAD_NAC', 'NACIONALIDAD', 'EMBARAZO'], axis = 1, inplace = True)\n",
    "datos.head()"
   ]
  },
  {
   "cell_type": "code",
   "execution_count": 6,
   "metadata": {},
   "outputs": [
    {
     "name": "stdout",
     "output_type": "stream",
     "text": [
      "<class 'pandas.core.frame.DataFrame'>\n",
      "RangeIndex: 1091695 entries, 0 to 1091694\n",
      "Data columns (total 24 columns):\n",
      " #   Column          Non-Null Count    Dtype \n",
      "---  ------          --------------    ----- \n",
      " 0   ENTIDAD_UM      1091695 non-null  int64 \n",
      " 1   SEXO            1091695 non-null  int64 \n",
      " 2   ENTIDAD_RES     1091695 non-null  int64 \n",
      " 3   MUNICIPIO_RES   1091695 non-null  int64 \n",
      " 4   TIPO_PACIENTE   1091695 non-null  int64 \n",
      " 5   FECHA_INGRESO   1091695 non-null  object\n",
      " 6   FECHA_SINTOMAS  1091695 non-null  object\n",
      " 7   FECHA_DEF       1091695 non-null  object\n",
      " 8   INTUBADO        1091695 non-null  int64 \n",
      " 9   NEUMONIA        1091695 non-null  int64 \n",
      " 10  EDAD            1091695 non-null  int64 \n",
      " 11  DIABETES        1091695 non-null  int64 \n",
      " 12  EPOC            1091695 non-null  int64 \n",
      " 13  ASMA            1091695 non-null  int64 \n",
      " 14  INMUSUPR        1091695 non-null  int64 \n",
      " 15  HIPERTENSION    1091695 non-null  int64 \n",
      " 16  OTRA_COM        1091695 non-null  int64 \n",
      " 17  CARDIOVASCULAR  1091695 non-null  int64 \n",
      " 18  OBESIDAD        1091695 non-null  int64 \n",
      " 19  RENAL_CRONICA   1091695 non-null  int64 \n",
      " 20  TABAQUISMO      1091695 non-null  int64 \n",
      " 21  OTRO_CASO       1091695 non-null  int64 \n",
      " 22  RESULTADO       1091695 non-null  int64 \n",
      " 23  MIGRANTE        1091695 non-null  int64 \n",
      "dtypes: int64(21), object(3)\n",
      "memory usage: 199.9+ MB\n"
     ]
    }
   ],
   "source": [
    "datos.info()"
   ]
  },
  {
   "cell_type": "code",
   "execution_count": 7,
   "metadata": {},
   "outputs": [],
   "source": [
    "datos.rename(columns = {'ENTIDAD_UM':'ESTADOS'}, inplace = True)"
   ]
  },
  {
   "cell_type": "code",
   "execution_count": 8,
   "metadata": {},
   "outputs": [
    {
     "data": {
      "text/html": [
       "<div>\n",
       "<style scoped>\n",
       "    .dataframe tbody tr th:only-of-type {\n",
       "        vertical-align: middle;\n",
       "    }\n",
       "\n",
       "    .dataframe tbody tr th {\n",
       "        vertical-align: top;\n",
       "    }\n",
       "\n",
       "    .dataframe thead th {\n",
       "        text-align: right;\n",
       "    }\n",
       "</style>\n",
       "<table border=\"1\" class=\"dataframe\">\n",
       "  <thead>\n",
       "    <tr style=\"text-align: right;\">\n",
       "      <th></th>\n",
       "      <th>ESTADOS</th>\n",
       "      <th>SEXO</th>\n",
       "      <th>ENTIDAD_RES</th>\n",
       "      <th>MUNICIPIO_RES</th>\n",
       "      <th>TIPO_PACIENTE</th>\n",
       "      <th>FECHA_INGRESO</th>\n",
       "      <th>FECHA_SINTOMAS</th>\n",
       "      <th>FECHA_DEF</th>\n",
       "      <th>INTUBADO</th>\n",
       "      <th>NEUMONIA</th>\n",
       "      <th>...</th>\n",
       "      <th>INMUSUPR</th>\n",
       "      <th>HIPERTENSION</th>\n",
       "      <th>OTRA_COM</th>\n",
       "      <th>CARDIOVASCULAR</th>\n",
       "      <th>OBESIDAD</th>\n",
       "      <th>RENAL_CRONICA</th>\n",
       "      <th>TABAQUISMO</th>\n",
       "      <th>OTRO_CASO</th>\n",
       "      <th>RESULTADO</th>\n",
       "      <th>MIGRANTE</th>\n",
       "    </tr>\n",
       "  </thead>\n",
       "  <tbody>\n",
       "    <tr>\n",
       "      <th>1091690</th>\n",
       "      <td>28</td>\n",
       "      <td>2</td>\n",
       "      <td>28</td>\n",
       "      <td>22</td>\n",
       "      <td>1</td>\n",
       "      <td>2020-07-25</td>\n",
       "      <td>2020-07-25</td>\n",
       "      <td>9999-99-99</td>\n",
       "      <td>97</td>\n",
       "      <td>2</td>\n",
       "      <td>...</td>\n",
       "      <td>2</td>\n",
       "      <td>2</td>\n",
       "      <td>2</td>\n",
       "      <td>2</td>\n",
       "      <td>2</td>\n",
       "      <td>2</td>\n",
       "      <td>2</td>\n",
       "      <td>1</td>\n",
       "      <td>3</td>\n",
       "      <td>99</td>\n",
       "    </tr>\n",
       "    <tr>\n",
       "      <th>1091691</th>\n",
       "      <td>14</td>\n",
       "      <td>2</td>\n",
       "      <td>14</td>\n",
       "      <td>23</td>\n",
       "      <td>2</td>\n",
       "      <td>2020-07-19</td>\n",
       "      <td>2020-07-17</td>\n",
       "      <td>9999-99-99</td>\n",
       "      <td>2</td>\n",
       "      <td>2</td>\n",
       "      <td>...</td>\n",
       "      <td>2</td>\n",
       "      <td>2</td>\n",
       "      <td>2</td>\n",
       "      <td>2</td>\n",
       "      <td>2</td>\n",
       "      <td>2</td>\n",
       "      <td>2</td>\n",
       "      <td>99</td>\n",
       "      <td>3</td>\n",
       "      <td>99</td>\n",
       "    </tr>\n",
       "    <tr>\n",
       "      <th>1091692</th>\n",
       "      <td>9</td>\n",
       "      <td>1</td>\n",
       "      <td>9</td>\n",
       "      <td>10</td>\n",
       "      <td>1</td>\n",
       "      <td>2020-07-25</td>\n",
       "      <td>2020-07-13</td>\n",
       "      <td>9999-99-99</td>\n",
       "      <td>97</td>\n",
       "      <td>2</td>\n",
       "      <td>...</td>\n",
       "      <td>2</td>\n",
       "      <td>2</td>\n",
       "      <td>2</td>\n",
       "      <td>2</td>\n",
       "      <td>2</td>\n",
       "      <td>2</td>\n",
       "      <td>2</td>\n",
       "      <td>1</td>\n",
       "      <td>3</td>\n",
       "      <td>99</td>\n",
       "    </tr>\n",
       "    <tr>\n",
       "      <th>1091693</th>\n",
       "      <td>11</td>\n",
       "      <td>1</td>\n",
       "      <td>11</td>\n",
       "      <td>17</td>\n",
       "      <td>2</td>\n",
       "      <td>2020-07-24</td>\n",
       "      <td>2020-07-22</td>\n",
       "      <td>9999-99-99</td>\n",
       "      <td>2</td>\n",
       "      <td>2</td>\n",
       "      <td>...</td>\n",
       "      <td>2</td>\n",
       "      <td>2</td>\n",
       "      <td>2</td>\n",
       "      <td>2</td>\n",
       "      <td>2</td>\n",
       "      <td>2</td>\n",
       "      <td>2</td>\n",
       "      <td>1</td>\n",
       "      <td>3</td>\n",
       "      <td>99</td>\n",
       "    </tr>\n",
       "    <tr>\n",
       "      <th>1091694</th>\n",
       "      <td>28</td>\n",
       "      <td>2</td>\n",
       "      <td>28</td>\n",
       "      <td>3</td>\n",
       "      <td>1</td>\n",
       "      <td>2020-07-20</td>\n",
       "      <td>2020-07-07</td>\n",
       "      <td>9999-99-99</td>\n",
       "      <td>97</td>\n",
       "      <td>2</td>\n",
       "      <td>...</td>\n",
       "      <td>2</td>\n",
       "      <td>2</td>\n",
       "      <td>2</td>\n",
       "      <td>2</td>\n",
       "      <td>2</td>\n",
       "      <td>2</td>\n",
       "      <td>2</td>\n",
       "      <td>1</td>\n",
       "      <td>3</td>\n",
       "      <td>99</td>\n",
       "    </tr>\n",
       "  </tbody>\n",
       "</table>\n",
       "<p>5 rows × 24 columns</p>\n",
       "</div>"
      ],
      "text/plain": [
       "         ESTADOS  SEXO  ENTIDAD_RES  MUNICIPIO_RES  TIPO_PACIENTE  \\\n",
       "1091690       28     2           28             22              1   \n",
       "1091691       14     2           14             23              2   \n",
       "1091692        9     1            9             10              1   \n",
       "1091693       11     1           11             17              2   \n",
       "1091694       28     2           28              3              1   \n",
       "\n",
       "        FECHA_INGRESO FECHA_SINTOMAS   FECHA_DEF  INTUBADO  NEUMONIA  ...  \\\n",
       "1091690    2020-07-25     2020-07-25  9999-99-99        97         2  ...   \n",
       "1091691    2020-07-19     2020-07-17  9999-99-99         2         2  ...   \n",
       "1091692    2020-07-25     2020-07-13  9999-99-99        97         2  ...   \n",
       "1091693    2020-07-24     2020-07-22  9999-99-99         2         2  ...   \n",
       "1091694    2020-07-20     2020-07-07  9999-99-99        97         2  ...   \n",
       "\n",
       "         INMUSUPR  HIPERTENSION  OTRA_COM  CARDIOVASCULAR  OBESIDAD  \\\n",
       "1091690         2             2         2               2         2   \n",
       "1091691         2             2         2               2         2   \n",
       "1091692         2             2         2               2         2   \n",
       "1091693         2             2         2               2         2   \n",
       "1091694         2             2         2               2         2   \n",
       "\n",
       "         RENAL_CRONICA  TABAQUISMO  OTRO_CASO  RESULTADO  MIGRANTE  \n",
       "1091690              2           2          1          3        99  \n",
       "1091691              2           2         99          3        99  \n",
       "1091692              2           2          1          3        99  \n",
       "1091693              2           2          1          3        99  \n",
       "1091694              2           2          1          3        99  \n",
       "\n",
       "[5 rows x 24 columns]"
      ]
     },
     "execution_count": 8,
     "metadata": {},
     "output_type": "execute_result"
    }
   ],
   "source": [
    "datos.tail()"
   ]
  },
  {
   "cell_type": "code",
   "execution_count": 9,
   "metadata": {},
   "outputs": [
    {
     "data": {
      "text/html": [
       "<div>\n",
       "<style scoped>\n",
       "    .dataframe tbody tr th:only-of-type {\n",
       "        vertical-align: middle;\n",
       "    }\n",
       "\n",
       "    .dataframe tbody tr th {\n",
       "        vertical-align: top;\n",
       "    }\n",
       "\n",
       "    .dataframe thead th {\n",
       "        text-align: right;\n",
       "    }\n",
       "</style>\n",
       "<table border=\"1\" class=\"dataframe\">\n",
       "  <thead>\n",
       "    <tr style=\"text-align: right;\">\n",
       "      <th></th>\n",
       "      <th>ESTADOS</th>\n",
       "      <th>SEXO</th>\n",
       "      <th>ENTIDAD_RES</th>\n",
       "      <th>MUNICIPIO_RES</th>\n",
       "      <th>TIPO_PACIENTE</th>\n",
       "      <th>FECHA_INGRESO</th>\n",
       "      <th>FECHA_SINTOMAS</th>\n",
       "      <th>FECHA_DEF</th>\n",
       "      <th>INTUBADO</th>\n",
       "      <th>NEUMONIA</th>\n",
       "      <th>...</th>\n",
       "      <th>HIPERTENSION</th>\n",
       "      <th>OTRA_COM</th>\n",
       "      <th>CARDIOVASCULAR</th>\n",
       "      <th>OBESIDAD</th>\n",
       "      <th>RENAL_CRONICA</th>\n",
       "      <th>TABAQUISMO</th>\n",
       "      <th>OTRO_CASO</th>\n",
       "      <th>RESULTADO</th>\n",
       "      <th>MIGRANTE</th>\n",
       "      <th>REGION</th>\n",
       "    </tr>\n",
       "  </thead>\n",
       "  <tbody>\n",
       "    <tr>\n",
       "      <th>0</th>\n",
       "      <td>2</td>\n",
       "      <td>1</td>\n",
       "      <td>2</td>\n",
       "      <td>2</td>\n",
       "      <td>1</td>\n",
       "      <td>2020-05-18</td>\n",
       "      <td>2020-05-15</td>\n",
       "      <td>9999-99-99</td>\n",
       "      <td>97</td>\n",
       "      <td>2</td>\n",
       "      <td>...</td>\n",
       "      <td>1</td>\n",
       "      <td>2</td>\n",
       "      <td>2</td>\n",
       "      <td>2</td>\n",
       "      <td>2</td>\n",
       "      <td>2</td>\n",
       "      <td>1</td>\n",
       "      <td>1</td>\n",
       "      <td>99</td>\n",
       "      <td>1</td>\n",
       "    </tr>\n",
       "    <tr>\n",
       "      <th>1</th>\n",
       "      <td>2</td>\n",
       "      <td>2</td>\n",
       "      <td>2</td>\n",
       "      <td>2</td>\n",
       "      <td>1</td>\n",
       "      <td>2020-05-26</td>\n",
       "      <td>2020-05-22</td>\n",
       "      <td>9999-99-99</td>\n",
       "      <td>97</td>\n",
       "      <td>2</td>\n",
       "      <td>...</td>\n",
       "      <td>2</td>\n",
       "      <td>2</td>\n",
       "      <td>2</td>\n",
       "      <td>2</td>\n",
       "      <td>2</td>\n",
       "      <td>2</td>\n",
       "      <td>1</td>\n",
       "      <td>1</td>\n",
       "      <td>99</td>\n",
       "      <td>1</td>\n",
       "    </tr>\n",
       "    <tr>\n",
       "      <th>2</th>\n",
       "      <td>9</td>\n",
       "      <td>1</td>\n",
       "      <td>9</td>\n",
       "      <td>15</td>\n",
       "      <td>2</td>\n",
       "      <td>2020-04-09</td>\n",
       "      <td>2020-04-09</td>\n",
       "      <td>9999-99-99</td>\n",
       "      <td>2</td>\n",
       "      <td>2</td>\n",
       "      <td>...</td>\n",
       "      <td>1</td>\n",
       "      <td>2</td>\n",
       "      <td>2</td>\n",
       "      <td>2</td>\n",
       "      <td>2</td>\n",
       "      <td>2</td>\n",
       "      <td>99</td>\n",
       "      <td>1</td>\n",
       "      <td>99</td>\n",
       "      <td>1</td>\n",
       "    </tr>\n",
       "    <tr>\n",
       "      <th>3</th>\n",
       "      <td>26</td>\n",
       "      <td>1</td>\n",
       "      <td>26</td>\n",
       "      <td>55</td>\n",
       "      <td>1</td>\n",
       "      <td>2020-03-23</td>\n",
       "      <td>2020-03-12</td>\n",
       "      <td>9999-99-99</td>\n",
       "      <td>97</td>\n",
       "      <td>1</td>\n",
       "      <td>...</td>\n",
       "      <td>2</td>\n",
       "      <td>2</td>\n",
       "      <td>2</td>\n",
       "      <td>2</td>\n",
       "      <td>2</td>\n",
       "      <td>2</td>\n",
       "      <td>99</td>\n",
       "      <td>1</td>\n",
       "      <td>99</td>\n",
       "      <td>1</td>\n",
       "    </tr>\n",
       "    <tr>\n",
       "      <th>4</th>\n",
       "      <td>15</td>\n",
       "      <td>2</td>\n",
       "      <td>15</td>\n",
       "      <td>33</td>\n",
       "      <td>2</td>\n",
       "      <td>2020-05-24</td>\n",
       "      <td>2020-05-20</td>\n",
       "      <td>2020-06-12</td>\n",
       "      <td>1</td>\n",
       "      <td>1</td>\n",
       "      <td>...</td>\n",
       "      <td>2</td>\n",
       "      <td>2</td>\n",
       "      <td>2</td>\n",
       "      <td>1</td>\n",
       "      <td>2</td>\n",
       "      <td>2</td>\n",
       "      <td>1</td>\n",
       "      <td>1</td>\n",
       "      <td>99</td>\n",
       "      <td>1</td>\n",
       "    </tr>\n",
       "  </tbody>\n",
       "</table>\n",
       "<p>5 rows × 25 columns</p>\n",
       "</div>"
      ],
      "text/plain": [
       "   ESTADOS  SEXO  ENTIDAD_RES  MUNICIPIO_RES  TIPO_PACIENTE FECHA_INGRESO  \\\n",
       "0        2     1            2              2              1    2020-05-18   \n",
       "1        2     2            2              2              1    2020-05-26   \n",
       "2        9     1            9             15              2    2020-04-09   \n",
       "3       26     1           26             55              1    2020-03-23   \n",
       "4       15     2           15             33              2    2020-05-24   \n",
       "\n",
       "  FECHA_SINTOMAS   FECHA_DEF  INTUBADO  NEUMONIA  ...  HIPERTENSION  OTRA_COM  \\\n",
       "0     2020-05-15  9999-99-99        97         2  ...             1         2   \n",
       "1     2020-05-22  9999-99-99        97         2  ...             2         2   \n",
       "2     2020-04-09  9999-99-99         2         2  ...             1         2   \n",
       "3     2020-03-12  9999-99-99        97         1  ...             2         2   \n",
       "4     2020-05-20  2020-06-12         1         1  ...             2         2   \n",
       "\n",
       "   CARDIOVASCULAR  OBESIDAD  RENAL_CRONICA  TABAQUISMO  OTRO_CASO  RESULTADO  \\\n",
       "0               2         2              2           2          1          1   \n",
       "1               2         2              2           2          1          1   \n",
       "2               2         2              2           2         99          1   \n",
       "3               2         2              2           2         99          1   \n",
       "4               2         1              2           2          1          1   \n",
       "\n",
       "   MIGRANTE  REGION  \n",
       "0        99       1  \n",
       "1        99       1  \n",
       "2        99       1  \n",
       "3        99       1  \n",
       "4        99       1  \n",
       "\n",
       "[5 rows x 25 columns]"
      ]
     },
     "execution_count": 9,
     "metadata": {},
     "output_type": "execute_result"
    }
   ],
   "source": [
    "datos['REGION'] = '1'\n",
    "datos.head()"
   ]
  },
  {
   "cell_type": "code",
   "execution_count": 10,
   "metadata": {},
   "outputs": [
    {
     "data": {
      "text/html": [
       "<div>\n",
       "<style scoped>\n",
       "    .dataframe tbody tr th:only-of-type {\n",
       "        vertical-align: middle;\n",
       "    }\n",
       "\n",
       "    .dataframe tbody tr th {\n",
       "        vertical-align: top;\n",
       "    }\n",
       "\n",
       "    .dataframe thead th {\n",
       "        text-align: right;\n",
       "    }\n",
       "</style>\n",
       "<table border=\"1\" class=\"dataframe\">\n",
       "  <thead>\n",
       "    <tr style=\"text-align: right;\">\n",
       "      <th></th>\n",
       "      <th>ESTADOS</th>\n",
       "      <th>SEXO</th>\n",
       "      <th>ENTIDAD_RES</th>\n",
       "      <th>MUNICIPIO_RES</th>\n",
       "      <th>TIPO_PACIENTE</th>\n",
       "      <th>FECHA_INGRESO</th>\n",
       "      <th>FECHA_SINTOMAS</th>\n",
       "      <th>FECHA_DEF</th>\n",
       "      <th>INTUBADO</th>\n",
       "      <th>NEUMONIA</th>\n",
       "      <th>...</th>\n",
       "      <th>HIPERTENSION</th>\n",
       "      <th>OTRA_COM</th>\n",
       "      <th>CARDIOVASCULAR</th>\n",
       "      <th>OBESIDAD</th>\n",
       "      <th>RENAL_CRONICA</th>\n",
       "      <th>TABAQUISMO</th>\n",
       "      <th>OTRO_CASO</th>\n",
       "      <th>RESULTADO</th>\n",
       "      <th>MIGRANTE</th>\n",
       "      <th>REGION</th>\n",
       "    </tr>\n",
       "  </thead>\n",
       "  <tbody>\n",
       "    <tr>\n",
       "      <th>0</th>\n",
       "      <td>2</td>\n",
       "      <td>1</td>\n",
       "      <td>2</td>\n",
       "      <td>2</td>\n",
       "      <td>1</td>\n",
       "      <td>2020-05-18</td>\n",
       "      <td>2020-05-15</td>\n",
       "      <td>9999-99-99</td>\n",
       "      <td>97</td>\n",
       "      <td>2</td>\n",
       "      <td>...</td>\n",
       "      <td>1</td>\n",
       "      <td>2</td>\n",
       "      <td>2</td>\n",
       "      <td>2</td>\n",
       "      <td>2</td>\n",
       "      <td>2</td>\n",
       "      <td>1</td>\n",
       "      <td>1</td>\n",
       "      <td>99</td>\n",
       "      <td>NORTE</td>\n",
       "    </tr>\n",
       "    <tr>\n",
       "      <th>1</th>\n",
       "      <td>2</td>\n",
       "      <td>2</td>\n",
       "      <td>2</td>\n",
       "      <td>2</td>\n",
       "      <td>1</td>\n",
       "      <td>2020-05-26</td>\n",
       "      <td>2020-05-22</td>\n",
       "      <td>9999-99-99</td>\n",
       "      <td>97</td>\n",
       "      <td>2</td>\n",
       "      <td>...</td>\n",
       "      <td>2</td>\n",
       "      <td>2</td>\n",
       "      <td>2</td>\n",
       "      <td>2</td>\n",
       "      <td>2</td>\n",
       "      <td>2</td>\n",
       "      <td>1</td>\n",
       "      <td>1</td>\n",
       "      <td>99</td>\n",
       "      <td>NORTE</td>\n",
       "    </tr>\n",
       "    <tr>\n",
       "      <th>2</th>\n",
       "      <td>9</td>\n",
       "      <td>1</td>\n",
       "      <td>9</td>\n",
       "      <td>15</td>\n",
       "      <td>2</td>\n",
       "      <td>2020-04-09</td>\n",
       "      <td>2020-04-09</td>\n",
       "      <td>9999-99-99</td>\n",
       "      <td>2</td>\n",
       "      <td>2</td>\n",
       "      <td>...</td>\n",
       "      <td>1</td>\n",
       "      <td>2</td>\n",
       "      <td>2</td>\n",
       "      <td>2</td>\n",
       "      <td>2</td>\n",
       "      <td>2</td>\n",
       "      <td>99</td>\n",
       "      <td>1</td>\n",
       "      <td>99</td>\n",
       "      <td>SUR</td>\n",
       "    </tr>\n",
       "    <tr>\n",
       "      <th>3</th>\n",
       "      <td>26</td>\n",
       "      <td>1</td>\n",
       "      <td>26</td>\n",
       "      <td>55</td>\n",
       "      <td>1</td>\n",
       "      <td>2020-03-23</td>\n",
       "      <td>2020-03-12</td>\n",
       "      <td>9999-99-99</td>\n",
       "      <td>97</td>\n",
       "      <td>1</td>\n",
       "      <td>...</td>\n",
       "      <td>2</td>\n",
       "      <td>2</td>\n",
       "      <td>2</td>\n",
       "      <td>2</td>\n",
       "      <td>2</td>\n",
       "      <td>2</td>\n",
       "      <td>99</td>\n",
       "      <td>1</td>\n",
       "      <td>99</td>\n",
       "      <td>NORTE</td>\n",
       "    </tr>\n",
       "    <tr>\n",
       "      <th>4</th>\n",
       "      <td>15</td>\n",
       "      <td>2</td>\n",
       "      <td>15</td>\n",
       "      <td>33</td>\n",
       "      <td>2</td>\n",
       "      <td>2020-05-24</td>\n",
       "      <td>2020-05-20</td>\n",
       "      <td>2020-06-12</td>\n",
       "      <td>1</td>\n",
       "      <td>1</td>\n",
       "      <td>...</td>\n",
       "      <td>2</td>\n",
       "      <td>2</td>\n",
       "      <td>2</td>\n",
       "      <td>1</td>\n",
       "      <td>2</td>\n",
       "      <td>2</td>\n",
       "      <td>1</td>\n",
       "      <td>1</td>\n",
       "      <td>99</td>\n",
       "      <td>SUR</td>\n",
       "    </tr>\n",
       "  </tbody>\n",
       "</table>\n",
       "<p>5 rows × 25 columns</p>\n",
       "</div>"
      ],
      "text/plain": [
       "   ESTADOS  SEXO  ENTIDAD_RES  MUNICIPIO_RES  TIPO_PACIENTE FECHA_INGRESO  \\\n",
       "0        2     1            2              2              1    2020-05-18   \n",
       "1        2     2            2              2              1    2020-05-26   \n",
       "2        9     1            9             15              2    2020-04-09   \n",
       "3       26     1           26             55              1    2020-03-23   \n",
       "4       15     2           15             33              2    2020-05-24   \n",
       "\n",
       "  FECHA_SINTOMAS   FECHA_DEF  INTUBADO  NEUMONIA  ...  HIPERTENSION  OTRA_COM  \\\n",
       "0     2020-05-15  9999-99-99        97         2  ...             1         2   \n",
       "1     2020-05-22  9999-99-99        97         2  ...             2         2   \n",
       "2     2020-04-09  9999-99-99         2         2  ...             1         2   \n",
       "3     2020-03-12  9999-99-99        97         1  ...             2         2   \n",
       "4     2020-05-20  2020-06-12         1         1  ...             2         2   \n",
       "\n",
       "   CARDIOVASCULAR  OBESIDAD  RENAL_CRONICA  TABAQUISMO  OTRO_CASO  RESULTADO  \\\n",
       "0               2         2              2           2          1          1   \n",
       "1               2         2              2           2          1          1   \n",
       "2               2         2              2           2         99          1   \n",
       "3               2         2              2           2         99          1   \n",
       "4               2         1              2           2          1          1   \n",
       "\n",
       "   MIGRANTE  REGION  \n",
       "0        99   NORTE  \n",
       "1        99   NORTE  \n",
       "2        99     SUR  \n",
       "3        99   NORTE  \n",
       "4        99     SUR  \n",
       "\n",
       "[5 rows x 25 columns]"
      ]
     },
     "execution_count": 10,
     "metadata": {},
     "output_type": "execute_result"
    }
   ],
   "source": [
    "datos['REGION'] = datos['ESTADOS'].map({1 : 'NORTE', 2 : 'NORTE', 3 : 'NORTE', 4 : 'SUR', 5 : 'NORTE', 6 : 'SUR', 7 : 'SUR', 8 : 'NORTE', 9 : 'SUR', 10 : 'NORTE', 11 : 'NORTE', 12 : 'SUR', 13 : 'SUR', 14 : 'SUR', 15 : 'SUR', 16 : 'SUR', 17 : 'SUR', 18 : 'SUR', 19 : 'NORTE', 20 : 'SUR', 21 : 'SUR', 22 : 'NORTE', 23 : 'SUR', 24 : 'NORTE', 25 : 'NORTE', 26 : 'NORTE', 27 : 'SUR', 28 : 'NORTE', 29 : 'SUR', 30 : 'SUR', 31 : 'SUR', 32 : 'NORTE'})\n",
    "datos.head()"
   ]
  },
  {
   "cell_type": "code",
   "execution_count": 11,
   "metadata": {
    "scrolled": true
   },
   "outputs": [
    {
     "data": {
      "text/html": [
       "<div>\n",
       "<style scoped>\n",
       "    .dataframe tbody tr th:only-of-type {\n",
       "        vertical-align: middle;\n",
       "    }\n",
       "\n",
       "    .dataframe tbody tr th {\n",
       "        vertical-align: top;\n",
       "    }\n",
       "\n",
       "    .dataframe thead th {\n",
       "        text-align: right;\n",
       "    }\n",
       "</style>\n",
       "<table border=\"1\" class=\"dataframe\">\n",
       "  <thead>\n",
       "    <tr style=\"text-align: right;\">\n",
       "      <th></th>\n",
       "      <th>ESTADOS</th>\n",
       "      <th>SEXO</th>\n",
       "      <th>ENTIDAD_RES</th>\n",
       "      <th>MUNICIPIO_RES</th>\n",
       "      <th>TIPO_PACIENTE</th>\n",
       "      <th>FECHA_INGRESO</th>\n",
       "      <th>FECHA_SINTOMAS</th>\n",
       "      <th>FECHA_DEF</th>\n",
       "      <th>INTUBADO</th>\n",
       "      <th>NEUMONIA</th>\n",
       "      <th>...</th>\n",
       "      <th>HIPERTENSION</th>\n",
       "      <th>OTRA_COM</th>\n",
       "      <th>CARDIOVASCULAR</th>\n",
       "      <th>OBESIDAD</th>\n",
       "      <th>RENAL_CRONICA</th>\n",
       "      <th>TABAQUISMO</th>\n",
       "      <th>OTRO_CASO</th>\n",
       "      <th>RESULTADO</th>\n",
       "      <th>MIGRANTE</th>\n",
       "      <th>REGION</th>\n",
       "    </tr>\n",
       "  </thead>\n",
       "  <tbody>\n",
       "    <tr>\n",
       "      <th>0</th>\n",
       "      <td>2</td>\n",
       "      <td>MUJER</td>\n",
       "      <td>2</td>\n",
       "      <td>2</td>\n",
       "      <td>1</td>\n",
       "      <td>2020-05-18</td>\n",
       "      <td>2020-05-15</td>\n",
       "      <td>9999-99-99</td>\n",
       "      <td>97</td>\n",
       "      <td>2</td>\n",
       "      <td>...</td>\n",
       "      <td>1</td>\n",
       "      <td>2</td>\n",
       "      <td>2</td>\n",
       "      <td>2</td>\n",
       "      <td>2</td>\n",
       "      <td>2</td>\n",
       "      <td>1</td>\n",
       "      <td>1</td>\n",
       "      <td>99</td>\n",
       "      <td>NORTE</td>\n",
       "    </tr>\n",
       "    <tr>\n",
       "      <th>1</th>\n",
       "      <td>2</td>\n",
       "      <td>HOMBRE</td>\n",
       "      <td>2</td>\n",
       "      <td>2</td>\n",
       "      <td>1</td>\n",
       "      <td>2020-05-26</td>\n",
       "      <td>2020-05-22</td>\n",
       "      <td>9999-99-99</td>\n",
       "      <td>97</td>\n",
       "      <td>2</td>\n",
       "      <td>...</td>\n",
       "      <td>2</td>\n",
       "      <td>2</td>\n",
       "      <td>2</td>\n",
       "      <td>2</td>\n",
       "      <td>2</td>\n",
       "      <td>2</td>\n",
       "      <td>1</td>\n",
       "      <td>1</td>\n",
       "      <td>99</td>\n",
       "      <td>NORTE</td>\n",
       "    </tr>\n",
       "    <tr>\n",
       "      <th>2</th>\n",
       "      <td>9</td>\n",
       "      <td>MUJER</td>\n",
       "      <td>9</td>\n",
       "      <td>15</td>\n",
       "      <td>2</td>\n",
       "      <td>2020-04-09</td>\n",
       "      <td>2020-04-09</td>\n",
       "      <td>9999-99-99</td>\n",
       "      <td>2</td>\n",
       "      <td>2</td>\n",
       "      <td>...</td>\n",
       "      <td>1</td>\n",
       "      <td>2</td>\n",
       "      <td>2</td>\n",
       "      <td>2</td>\n",
       "      <td>2</td>\n",
       "      <td>2</td>\n",
       "      <td>99</td>\n",
       "      <td>1</td>\n",
       "      <td>99</td>\n",
       "      <td>SUR</td>\n",
       "    </tr>\n",
       "    <tr>\n",
       "      <th>3</th>\n",
       "      <td>26</td>\n",
       "      <td>MUJER</td>\n",
       "      <td>26</td>\n",
       "      <td>55</td>\n",
       "      <td>1</td>\n",
       "      <td>2020-03-23</td>\n",
       "      <td>2020-03-12</td>\n",
       "      <td>9999-99-99</td>\n",
       "      <td>97</td>\n",
       "      <td>1</td>\n",
       "      <td>...</td>\n",
       "      <td>2</td>\n",
       "      <td>2</td>\n",
       "      <td>2</td>\n",
       "      <td>2</td>\n",
       "      <td>2</td>\n",
       "      <td>2</td>\n",
       "      <td>99</td>\n",
       "      <td>1</td>\n",
       "      <td>99</td>\n",
       "      <td>NORTE</td>\n",
       "    </tr>\n",
       "    <tr>\n",
       "      <th>4</th>\n",
       "      <td>15</td>\n",
       "      <td>HOMBRE</td>\n",
       "      <td>15</td>\n",
       "      <td>33</td>\n",
       "      <td>2</td>\n",
       "      <td>2020-05-24</td>\n",
       "      <td>2020-05-20</td>\n",
       "      <td>2020-06-12</td>\n",
       "      <td>1</td>\n",
       "      <td>1</td>\n",
       "      <td>...</td>\n",
       "      <td>2</td>\n",
       "      <td>2</td>\n",
       "      <td>2</td>\n",
       "      <td>1</td>\n",
       "      <td>2</td>\n",
       "      <td>2</td>\n",
       "      <td>1</td>\n",
       "      <td>1</td>\n",
       "      <td>99</td>\n",
       "      <td>SUR</td>\n",
       "    </tr>\n",
       "  </tbody>\n",
       "</table>\n",
       "<p>5 rows × 25 columns</p>\n",
       "</div>"
      ],
      "text/plain": [
       "   ESTADOS    SEXO  ENTIDAD_RES  MUNICIPIO_RES  TIPO_PACIENTE FECHA_INGRESO  \\\n",
       "0        2   MUJER            2              2              1    2020-05-18   \n",
       "1        2  HOMBRE            2              2              1    2020-05-26   \n",
       "2        9   MUJER            9             15              2    2020-04-09   \n",
       "3       26   MUJER           26             55              1    2020-03-23   \n",
       "4       15  HOMBRE           15             33              2    2020-05-24   \n",
       "\n",
       "  FECHA_SINTOMAS   FECHA_DEF  INTUBADO  NEUMONIA  ...  HIPERTENSION  OTRA_COM  \\\n",
       "0     2020-05-15  9999-99-99        97         2  ...             1         2   \n",
       "1     2020-05-22  9999-99-99        97         2  ...             2         2   \n",
       "2     2020-04-09  9999-99-99         2         2  ...             1         2   \n",
       "3     2020-03-12  9999-99-99        97         1  ...             2         2   \n",
       "4     2020-05-20  2020-06-12         1         1  ...             2         2   \n",
       "\n",
       "   CARDIOVASCULAR  OBESIDAD  RENAL_CRONICA  TABAQUISMO  OTRO_CASO  RESULTADO  \\\n",
       "0               2         2              2           2          1          1   \n",
       "1               2         2              2           2          1          1   \n",
       "2               2         2              2           2         99          1   \n",
       "3               2         2              2           2         99          1   \n",
       "4               2         1              2           2          1          1   \n",
       "\n",
       "   MIGRANTE  REGION  \n",
       "0        99   NORTE  \n",
       "1        99   NORTE  \n",
       "2        99     SUR  \n",
       "3        99   NORTE  \n",
       "4        99     SUR  \n",
       "\n",
       "[5 rows x 25 columns]"
      ]
     },
     "execution_count": 11,
     "metadata": {},
     "output_type": "execute_result"
    }
   ],
   "source": [
    "datos['SEXO'] = datos['SEXO'].map({1 : 'MUJER', 2 : 'HOMBRE', 99 : 'NOID'})\n",
    "datos.head()"
   ]
  },
  {
   "cell_type": "code",
   "execution_count": 12,
   "metadata": {},
   "outputs": [],
   "source": [
    "casosPositivos = datos.loc[datos['RESULTADO'] == 1]\n",
    "casosNegativos = datos.loc[datos['RESULTADO'] == 2]\n",
    "casosPendientes = datos.loc[datos['RESULTADO'] == 3]\n",
    "numCP = len(casosPositivos)\n",
    "numCN = len(casosNegativos)\n",
    "numCPS = len(casosPendientes)\n",
    "total = numCP + numCN + numCPS"
   ]
  },
  {
   "cell_type": "code",
   "execution_count": 13,
   "metadata": {},
   "outputs": [
    {
     "data": {
      "text/plain": [
       "<matplotlib.axes._subplots.AxesSubplot at 0x1a671a63588>"
      ]
     },
     "execution_count": 13,
     "metadata": {},
     "output_type": "execute_result"
    },
    {
     "data": {
      "image/png": "[encoded data removed]",
      "text/plain": [
       "<Figure size 432x288 with 1 Axes>"
      ]
     },
     "metadata": {},
     "output_type": "display_data"
    }
   ],
   "source": [
    "CasosCovid = pd.Series({\n",
    "    'Positivos' : numCP,\n",
    "    'Negativos' : numCN,\n",
    "    'Pendientes' : numCPS\n",
    "})\n",
    "CasosCovid.plot(kind='pie', title='COVID-19 en Mexico')"
   ]
  },
  {
   "cell_type": "code",
   "execution_count": 14,
   "metadata": {
    "scrolled": true
   },
   "outputs": [
    {
     "data": {
      "text/plain": [
       "<matplotlib.axes._subplots.AxesSubplot at 0x1a60b38fa48>"
      ]
     },
     "execution_count": 14,
     "metadata": {},
     "output_type": "execute_result"
    },
    {
     "data": {
      "image/png": "[encoded data removed]",
      "text/plain": [
       "<Figure size 432x288 with 1 Axes>"
      ]
     },
     "metadata": {
      "needs_background": "light"
     },
     "output_type": "display_data"
    }
   ],
   "source": [
    "CasosCovid.plot(kind='bar', title='COVID-19 en Mexico')"
   ]
  },
  {
   "cell_type": "code",
   "execution_count": 15,
   "metadata": {},
   "outputs": [],
   "source": [
    "pos = (numCP / total) * 100\n",
    "neg = (numCN / total) * 100\n",
    "pen = (numCPS / total) * 100"
   ]
  },
  {
   "cell_type": "markdown",
   "metadata": {},
   "source": [
    "### Un total de 43.99% de personas en mexico dan positivo\n",
    "### Un total de 48.26% de personas en mexico dan negativo\n",
    "### Un total de 7.74% de personas en mexico estan pendientes de resultados"
   ]
  },
  {
   "cell_type": "code",
   "execution_count": 16,
   "metadata": {},
   "outputs": [],
   "source": [
    "hombres = casosPositivos.loc[casosPositivos['SEXO'] == 'HOMBRE']\n",
    "mujeres = casosPositivos.loc[casosPositivos['SEXO'] == 'MUJER']\n",
    "noid = casosPositivos.loc[casosPositivos['SEXO'] == 'NOID']\n",
    "numHombre = len(hombres)\n",
    "numMujer = len(mujeres)\n",
    "numNoid = len(noid)"
   ]
  },
  {
   "cell_type": "code",
   "execution_count": 17,
   "metadata": {},
   "outputs": [
    {
     "data": {
      "text/plain": [
       "<matplotlib.axes._subplots.AxesSubplot at 0x1a619d144c8>"
      ]
     },
     "execution_count": 17,
     "metadata": {},
     "output_type": "execute_result"
    },
    {
     "data": {
      "image/png": "[encoded data removed]",
      "text/plain": [
       "<Figure size 432x288 with 1 Axes>"
      ]
     },
     "metadata": {},
     "output_type": "display_data"
    }
   ],
   "source": [
    "CasosCovidSexo = pd.Series({\n",
    "    'Hombres' : numHombre,\n",
    "    'Mujeres' : numMujer,\n",
    "    'No identificados' : numNoid\n",
    "})\n",
    "CasosCovidSexo.plot(kind='pie', title='COVID-19 en Mexico por sexo')"
   ]
  },
  {
   "cell_type": "code",
   "execution_count": 18,
   "metadata": {},
   "outputs": [
    {
     "data": {
      "text/plain": [
       "<matplotlib.axes._subplots.AxesSubplot at 0x1a619d22f08>"
      ]
     },
     "execution_count": 18,
     "metadata": {},
     "output_type": "execute_result"
    },
    {
     "data": {
      "image/png": "[encoded data removed]",
      "text/plain": [
       "<Figure size 432x288 with 1 Axes>"
      ]
     },
     "metadata": {
      "needs_background": "light"
     },
     "output_type": "display_data"
    }
   ],
   "source": [
    "CasosCovidSexo.plot(kind='bar', title='COVID-19 en Mexico por sexo')"
   ]
  },
  {
   "cell_type": "code",
   "execution_count": 19,
   "metadata": {},
   "outputs": [],
   "source": [
    "h = (numHombre / numCP) * 100\n",
    "m = (numMujer / numCP) * 100\n",
    "n = (numNoid / numCP) * 100"
   ]
  },
  {
   "cell_type": "markdown",
   "metadata": {},
   "source": [
    "### Un total de 52.95% de personas con covid son hombres\n",
    "### Un total de 47.05% de personas con covid son mujeres"
   ]
  },
  {
   "cell_type": "code",
   "execution_count": 20,
   "metadata": {},
   "outputs": [
    {
     "name": "stdout",
     "output_type": "stream",
     "text": [
      "144841\n"
     ]
    }
   ],
   "source": [
    "hombresNorte = hombres.loc[hombres['REGION'] == 'NORTE']\n",
    "hombresSur = hombres.loc[hombres['REGION'] == 'SUR']\n",
    "mujeresNorte = mujeres.loc[mujeres['REGION'] == 'NORTE']\n",
    "mujeresSur = mujeres.loc[mujeres['REGION'] == 'SUR']\n",
    "numHN = len(hombresNorte)\n",
    "numHS = len(hombresSur)\n",
    "numMN = len(mujeresNorte)\n",
    "numMS = len(mujeresSur)\n",
    "print(numMS)"
   ]
  },
  {
   "cell_type": "code",
   "execution_count": 21,
   "metadata": {},
   "outputs": [
    {
     "data": {
      "text/plain": [
       "<matplotlib.axes._subplots.AxesSubplot at 0x1a6719bc848>"
      ]
     },
     "execution_count": 21,
     "metadata": {},
     "output_type": "execute_result"
    },
    {
     "data": {
      "image/png": "[encoded data removed]",
      "text/plain": [
       "<Figure size 432x288 with 1 Axes>"
      ]
     },
     "metadata": {},
     "output_type": "display_data"
    }
   ],
   "source": [
    "CasosCovidSexoReg = pd.Series({\n",
    "    'Hombres al norte' : numHN,\n",
    "    'Hombres al sur' : numHS,\n",
    "    'Mujeres al norte' : numMN,\n",
    "    'Mujeres al sur' : numMS\n",
    "})\n",
    "CasosCovidSexoReg.plot(kind='pie', title='COVID-19 en Mexico por sexo y region')"
   ]
  },
  {
   "cell_type": "code",
   "execution_count": 22,
   "metadata": {},
   "outputs": [
    {
     "data": {
      "text/plain": [
       "<matplotlib.axes._subplots.AxesSubplot at 0x1a61d138988>"
      ]
     },
     "execution_count": 22,
     "metadata": {},
     "output_type": "execute_result"
    },
    {
     "data": {
      "image/png": "[encoded data removed]",
      "text/plain": [
       "<Figure size 432x288 with 1 Axes>"
      ]
     },
     "metadata": {
      "needs_background": "light"
     },
     "output_type": "display_data"
    }
   ],
   "source": [
    "CasosCovidSexoReg.plot(kind='bar', title='COVID-19 en Mexico por sexo y region')"
   ]
  },
  {
   "cell_type": "code",
   "execution_count": 23,
   "metadata": {},
   "outputs": [],
   "source": [
    "muertos = datos.loc[(datos['RESULTADO'] == 1) & (datos['FECHA_DEF'] != '9999-99-99') & (datos.FECHA_DEF.notnull())]\n",
    "vivoEntubado = datos.loc[(datos['RESULTADO'] == 1) & (datos['FECHA_DEF'] == '9999-99-99') | (datos.FECHA_DEF.notnull()) & (datos['INTUBADO'] == 1)]\n",
    "vivo = datos.loc[(datos['RESULTADO'] == 1) & (datos['FECHA_DEF'] == '9999-99-99') & (datos.FECHA_DEF.notnull()) & (datos['INTUBADO'] != 1)]\n",
    "numMuertos = len(muertos)\n",
    "numEntubados = len(vivoEntubado)\n",
    "numVivo = len(vivo)"
   ]
  },
  {
   "cell_type": "code",
   "execution_count": 24,
   "metadata": {},
   "outputs": [
    {
     "data": {
      "text/plain": [
       "<matplotlib.axes._subplots.AxesSubplot at 0x1a61d18ddc8>"
      ]
     },
     "execution_count": 24,
     "metadata": {},
     "output_type": "execute_result"
    },
    {
     "data": {
      "image/png": "[encoded data removed]",
      "text/plain": [
       "<Figure size 432x288 with 1 Axes>"
      ]
     },
     "metadata": {
      "needs_background": "light"
     },
     "output_type": "display_data"
    }
   ],
   "source": [
    "CasosCriticos = pd.Series({\n",
    "    'Muertos' : numMuertos,\n",
    "    'Vivos pero entubados' : numEntubados,\n",
    "    'Vivos' : numVivo\n",
    "})\n",
    "CasosCriticos.plot(kind='bar', title='Muertos y entubados')"
   ]
  },
  {
   "cell_type": "code",
   "execution_count": 25,
   "metadata": {},
   "outputs": [
    {
     "data": {
      "text/plain": [
       "<matplotlib.axes._subplots.AxesSubplot at 0x1a61d213408>"
      ]
     },
     "execution_count": 25,
     "metadata": {},
     "output_type": "execute_result"
    },
    {
     "data": {
      "image/png": "[encoded data removed]",
      "text/plain": [
       "<Figure size 432x288 with 1 Axes>"
      ]
     },
     "metadata": {},
     "output_type": "display_data"
    }
   ],
   "source": [
    "CasosCriticos.plot(kind='pie', title='Muertos y entubados')"
   ]
  },
  {
   "cell_type": "code",
   "execution_count": 26,
   "metadata": {},
   "outputs": [],
   "source": [
    "vivosHombreNorte = vivo.loc[(vivo['REGION'] == 'NORTE') & (vivo['SEXO'] == 'HOMBRE')]\n",
    "vivosHombreSur = vivo.loc[(vivo['REGION'] == 'SUR') & (vivo['SEXO'] == 'HOMBRE')]\n",
    "vivosMujerNorte = vivo.loc[(vivo['REGION'] == 'NORTE') & (vivo['SEXO'] == 'MUJER')]\n",
    "vivosMujerSur = vivo.loc[(vivo['REGION'] == 'SUR') & (vivo['SEXO'] == 'MUJER')]\n",
    "vhn = len(vivosHombreNorte)\n",
    "vhs = len(vivosHombreSur)\n",
    "vmn = len(vivosMujerNorte)\n",
    "vms = len(vivosMujerSur)"
   ]
  },
  {
   "cell_type": "code",
   "execution_count": 27,
   "metadata": {},
   "outputs": [
    {
     "data": {
      "text/plain": [
       "<matplotlib.axes._subplots.AxesSubplot at 0x1a61d19ba08>"
      ]
     },
     "execution_count": 27,
     "metadata": {},
     "output_type": "execute_result"
    },
    {
     "data": {
      "image/png": "[encoded data removed]",
      "text/plain": [
       "<Figure size 432x288 with 1 Axes>"
      ]
     },
     "metadata": {
      "needs_background": "light"
     },
     "output_type": "display_data"
    }
   ],
   "source": [
    "vivosporsexo = pd.Series({\n",
    "    'Hombre del norte' : vhn,\n",
    "    'Mujer del norte' : vmn,\n",
    "    'Hombre del sur' : vhs,\n",
    "    'Mujer del sur' : vms\n",
    "})\n",
    "vivosporsexo.plot(kind='bar', title='Vivo por tipo de sexo')"
   ]
  },
  {
   "cell_type": "code",
   "execution_count": 28,
   "metadata": {},
   "outputs": [
    {
     "data": {
      "text/plain": [
       "<matplotlib.axes._subplots.AxesSubplot at 0x1a61d1abd08>"
      ]
     },
     "execution_count": 28,
     "metadata": {},
     "output_type": "execute_result"
    },
    {
     "data": {
      "image/png": "[encoded data removed]",
      "text/plain": [
       "<Figure size 432x288 with 1 Axes>"
      ]
     },
     "metadata": {},
     "output_type": "display_data"
    }
   ],
   "source": [
    "vivosporsexo.plot(kind='pie', title='Vivo por tipo de sexo')"
   ]
  },
  {
   "cell_type": "code",
   "execution_count": 29,
   "metadata": {},
   "outputs": [],
   "source": [
    "vivosEntubadoHNorte = vivoEntubado.loc[(vivoEntubado['REGION'] == 'NORTE') & (vivoEntubado['SEXO'] == 'HOMBRE')]\n",
    "vivosEntubadoHSur = vivoEntubado.loc[(vivoEntubado['REGION'] == 'SUR') & (vivoEntubado['SEXO'] == 'HOMBRE')]\n",
    "vivosEntubadoMNorte = vivoEntubado.loc[(vivoEntubado['REGION'] == 'NORTE') & (vivoEntubado['SEXO'] == 'MUJER')]\n",
    "vivosEntubadoMSur = vivoEntubado.loc[(vivoEntubado['REGION'] == 'SUR') & (vivoEntubado['SEXO'] == 'MUJER')]\n",
    "vehn = len(vivosEntubadoHNorte)\n",
    "vehs = len(vivosEntubadoHSur)\n",
    "vemn = len(vivosEntubadoMNorte)\n",
    "vems = len(vivosEntubadoMSur)"
   ]
  },
  {
   "cell_type": "code",
   "execution_count": 30,
   "metadata": {},
   "outputs": [
    {
     "data": {
      "text/plain": [
       "<matplotlib.axes._subplots.AxesSubplot at 0x1a647bf9708>"
      ]
     },
     "execution_count": 30,
     "metadata": {},
     "output_type": "execute_result"
    },
    {
     "data": {
      "image/png": "[encoded data removed]",
      "text/plain": [
       "<Figure size 432x288 with 1 Axes>"
      ]
     },
     "metadata": {
      "needs_background": "light"
     },
     "output_type": "display_data"
    }
   ],
   "source": [
    "vivosporsexoEn = pd.Series({\n",
    "    'Hombre del norte' : vehn,\n",
    "    'Mujer del norte' : vemn,\n",
    "    'Hombre del sur' : vehs,\n",
    "    'Mujer del sur' : vems\n",
    "})\n",
    "vivosporsexoEn.plot(kind='bar', title='Vivo por tipo de sexo y entubados')"
   ]
  },
  {
   "cell_type": "code",
   "execution_count": 31,
   "metadata": {},
   "outputs": [
    {
     "data": {
      "text/plain": [
       "<matplotlib.axes._subplots.AxesSubplot at 0x1a619d22a48>"
      ]
     },
     "execution_count": 31,
     "metadata": {},
     "output_type": "execute_result"
    },
    {
     "data": {
      "image/png": "[encoded data removed]",
      "text/plain": [
       "<Figure size 432x288 with 1 Axes>"
      ]
     },
     "metadata": {},
     "output_type": "display_data"
    }
   ],
   "source": [
    "vivosporsexoEn.plot(kind='pie', title='Vivo por tipo de sexo y entubados')"
   ]
  },
  {
   "cell_type": "code",
   "execution_count": 32,
   "metadata": {},
   "outputs": [],
   "source": [
    "muertosHNorte = muertos.loc[(muertos['REGION'] == 'NORTE') & (muertos['SEXO'] == 'HOMBRE')]\n",
    "muertosHSur = muertos.loc[(muertos['REGION'] == 'SUR') & (muertos['SEXO'] == 'HOMBRE')]\n",
    "muertosMNorte = muertos.loc[(muertos['REGION'] == 'NORTE') & (muertos['SEXO'] == 'MUJER')]\n",
    "muertosMSur = muertos.loc[(muertos['REGION'] == 'SUR') & (muertos['SEXO'] == 'MUJER')]\n",
    "mhn = len(muertosHNorte)\n",
    "mhs = len(muertosHSur)\n",
    "mmn = len(muertosMNorte)\n",
    "mms = len(muertosMSur)"
   ]
  },
  {
   "cell_type": "code",
   "execution_count": 33,
   "metadata": {},
   "outputs": [
    {
     "data": {
      "text/plain": [
       "<matplotlib.axes._subplots.AxesSubplot at 0x1a66a76c788>"
      ]
     },
     "execution_count": 33,
     "metadata": {},
     "output_type": "execute_result"
    },
    {
     "data": {
      "image/png": "[encoded data removed]",
      "text/plain": [
       "<Figure size 432x288 with 1 Axes>"
      ]
     },
     "metadata": {
      "needs_background": "light"
     },
     "output_type": "display_data"
    }
   ],
   "source": [
    "muertosporsexo = pd.Series({\n",
    "    'Hombre del norte' : mhn,\n",
    "    'Mujer del norte' : vemn,\n",
    "    'Hombre del sur' : mhs,\n",
    "    'Mujer del sur' : mms\n",
    "})\n",
    "muertosporsexo.plot(kind='bar', title='Muertos por tipo de sexo y entubados')"
   ]
  },
  {
   "cell_type": "code",
   "execution_count": 34,
   "metadata": {},
   "outputs": [
    {
     "data": {
      "text/plain": [
       "<matplotlib.axes._subplots.AxesSubplot at 0x1a66a7e7c48>"
      ]
     },
     "execution_count": 34,
     "metadata": {},
     "output_type": "execute_result"
    },
    {
     "data": {
      "image/png": "[encoded data removed]",
      "text/plain": [
       "<Figure size 432x288 with 1 Axes>"
      ]
     },
     "metadata": {},
     "output_type": "display_data"
    }
   ],
   "source": [
    "muertosporsexo.plot(kind='pie', title='Muertos por tipo de sexo y entubados')"
   ]
  },
  {
   "cell_type": "code",
   "execution_count": 42,
   "metadata": {},
   "outputs": [],
   "source": [
    "posDia = datos.loc[(datos['RESULTADO'] == 1) & (datos['DIABETES'] == 1)]\n",
    "posEpoc = datos.loc[(datos['RESULTADO'] == 1) & (datos['EPOC'] == 1)]\n",
    "posAsma = datos.loc[(datos['RESULTADO'] == 1) & (datos['ASMA'] == 1)]\n",
    "posInm = datos.loc[(datos['RESULTADO'] == 1) & (datos['INMUSUPR'] == 1)]\n",
    "posHiper = datos.loc[(datos['RESULTADO'] == 1) & (datos['HIPERTENSION'] == 1)]\n",
    "posOtra = datos.loc[(datos['RESULTADO'] == 1) & (datos['OTRA_COM'] == 1)]\n",
    "posCardio = datos.loc[(datos['RESULTADO'] == 1) & (datos['CARDIOVASCULAR'] == 1)]\n",
    "posObe = datos.loc[(datos['RESULTADO'] == 1) & (datos['OBESIDAD'] == 1)]\n",
    "posRenal = datos.loc[(datos['RESULTADO'] == 1) & (datos['RENAL_CRONICA'] == 1)]\n",
    "posTab = datos.loc[(datos['RESULTADO'] == 1) & (datos['TABAQUISMO'] == 1)]\n",
    "posnada = datos.loc[(datos['RESULTADO'] == 1) & (datos['DIABETES'] != 1) & (datos['EPOC'] != 1) & (datos['ASMA'] != 1) & (datos['INMUSUPR'] != 1) & (datos['HIPERTENSION'] != 1) & (datos['OTRA_COM'] != 1) & (datos['CARDIOVASCULAR'] != 1) & (datos['OBESIDAD'] != 1) & (datos['RENAL_CRONICA'] != 1) & (datos['TABAQUISMO'] != 1)]\n",
    "\n",
    "diabetes = len(posDia)\n",
    "epoc = len(posEpoc)\n",
    "asma = len(posAsma)\n",
    "inmunu = len(posInm)\n",
    "hiper = len(posHiper)\n",
    "otra = len(posOtra)\n",
    "cardio = len(posCardio)\n",
    "obesidad = len(posObe)\n",
    "renal = len(posRenal)\n",
    "tabaq = len(posTab)\n",
    "nada = len(posnada)"
   ]
  },
  {
   "cell_type": "code",
   "execution_count": 43,
   "metadata": {},
   "outputs": [
    {
     "data": {
      "text/plain": [
       "<matplotlib.axes._subplots.AxesSubplot at 0x1a672d72648>"
      ]
     },
     "execution_count": 43,
     "metadata": {},
     "output_type": "execute_result"
    },
    {
     "data": {
      "image/png": "[encoded data removed]",
      "text/plain": [
       "<Figure size 432x288 with 1 Axes>"
      ]
     },
     "metadata": {
      "needs_background": "light"
     },
     "output_type": "display_data"
    }
   ],
   "source": [
    "enfermedades = pd.Series({\n",
    "    'Diabetes' : diabetes,\n",
    "    'EPOC' : epoc,\n",
    "    'ASMA' : asma,\n",
    "    'Inmusupresion' : inmunu,\n",
    "    'Hipertension' : hiper,\n",
    "    'Cardiobascular' : cardio,\n",
    "    'Obesidad' : obesidad,\n",
    "    'Renal' : renal,\n",
    "    'Tabaquismo' : tabaq,\n",
    "    'Otra' : otra,\n",
    "    'Ninguna enfermedad' : nada\n",
    "})\n",
    "enfermedades.plot(kind='bar', title='Positivos con enfermedades')"
   ]
  },
  {
   "cell_type": "code",
   "execution_count": 44,
   "metadata": {},
   "outputs": [
    {
     "data": {
      "text/plain": [
       "<matplotlib.axes._subplots.AxesSubplot at 0x1a68848e5c8>"
      ]
     },
     "execution_count": 44,
     "metadata": {},
     "output_type": "execute_result"
    },
    {
     "data": {
      "image/png": "[encoded data removed]",
      "text/plain": [
       "<Figure size 432x288 with 1 Axes>"
      ]
     },
     "metadata": {},
     "output_type": "display_data"
    }
   ],
   "source": [
    "enfermedades.plot(kind='pie', title='Positivos con enfermedades')"
   ]
  },
  {
   "cell_type": "code",
   "execution_count": 45,
   "metadata": {},
   "outputs": [],
   "source": [
    "posDia = datos.loc[(datos['RESULTADO'] == 1) & (datos['DIABETES'] == 1) & (datos['FECHA_DEF'] != '9999-99-99') & (datos.FECHA_DEF.notnull())]\n",
    "posEpoc = datos.loc[(datos['RESULTADO'] == 1) & (datos['EPOC'] == 1) & (datos['FECHA_DEF'] != '9999-99-99') & (datos.FECHA_DEF.notnull())]\n",
    "posAsma = datos.loc[(datos['RESULTADO'] == 1) & (datos['ASMA'] == 1) & (datos['FECHA_DEF'] != '9999-99-99') & (datos.FECHA_DEF.notnull())]\n",
    "posInm = datos.loc[(datos['RESULTADO'] == 1) & (datos['INMUSUPR'] == 1) & (datos['FECHA_DEF'] != '9999-99-99') & (datos.FECHA_DEF.notnull())]\n",
    "posHiper = datos.loc[(datos['RESULTADO'] == 1) & (datos['HIPERTENSION'] == 1) & (datos['FECHA_DEF'] != '9999-99-99') & (datos.FECHA_DEF.notnull())]\n",
    "posOtra = datos.loc[(datos['RESULTADO'] == 1) & (datos['OTRA_COM'] == 1) & (datos['FECHA_DEF'] != '9999-99-99') & (datos.FECHA_DEF.notnull())]\n",
    "posCardio = datos.loc[(datos['RESULTADO'] == 1) & (datos['CARDIOVASCULAR'] == 1) & (datos['FECHA_DEF'] != '9999-99-99') & (datos.FECHA_DEF.notnull())]\n",
    "posObe = datos.loc[(datos['RESULTADO'] == 1) & (datos['OBESIDAD'] == 1) & (datos['FECHA_DEF'] != '9999-99-99') & (datos.FECHA_DEF.notnull())]\n",
    "posRenal = datos.loc[(datos['RESULTADO'] == 1) & (datos['RENAL_CRONICA'] == 1) & (datos['FECHA_DEF'] != '9999-99-99') & (datos.FECHA_DEF.notnull())]\n",
    "posTab = datos.loc[(datos['RESULTADO'] == 1) & (datos['TABAQUISMO'] == 1) & (datos['FECHA_DEF'] != '9999-99-99') & (datos.FECHA_DEF.notnull())]\n",
    "posnada = datos.loc[(datos['RESULTADO'] == 1) & (datos['DIABETES'] != 1) & (datos['EPOC'] != 1) & (datos['ASMA'] != 1) & (datos['INMUSUPR'] != 1) & (datos['HIPERTENSION'] != 1) & (datos['OTRA_COM'] != 1) & (datos['CARDIOVASCULAR'] != 1) & (datos['OBESIDAD'] != 1) & (datos['RENAL_CRONICA'] != 1) & (datos['TABAQUISMO'] != 1) & (datos['FECHA_DEF'] != '9999-99-99') & (datos.FECHA_DEF.notnull())]\n",
    "\n",
    "diabetes = len(posDia)\n",
    "epoc = len(posEpoc)\n",
    "asma = len(posAsma)\n",
    "inmunu = len(posInm)\n",
    "hiper = len(posHiper)\n",
    "otra = len(posOtra)\n",
    "cardio = len(posCardio)\n",
    "obesidad = len(posObe)\n",
    "renal = len(posRenal)\n",
    "tabaq = len(posTab)\n",
    "nada = len(posnada)"
   ]
  },
  {
   "cell_type": "code",
   "execution_count": 46,
   "metadata": {},
   "outputs": [
    {
     "data": {
      "text/plain": [
       "<matplotlib.axes._subplots.AxesSubplot at 0x1a688a7ccc8>"
      ]
     },
     "execution_count": 46,
     "metadata": {},
     "output_type": "execute_result"
    },
    {
     "data": {
      "image/png": "[encoded data removed]",
      "text/plain": [
       "<Figure size 432x288 with 1 Axes>"
      ]
     },
     "metadata": {
      "needs_background": "light"
     },
     "output_type": "display_data"
    }
   ],
   "source": [
    "enfermedades = pd.Series({\n",
    "    'Diabetes' : diabetes,\n",
    "    'EPOC' : epoc,\n",
    "    'ASMA' : asma,\n",
    "    'Inmusupresion' : inmunu,\n",
    "    'Hipertension' : hiper,\n",
    "    'Cardiobascular' : cardio,\n",
    "    'Obesidad' : obesidad,\n",
    "    'Renal' : renal,\n",
    "    'Tabaquismo' : tabaq,\n",
    "    'Otra' : otra,\n",
    "    'Ninguna enfermedad' : nada\n",
    "})\n",
    "enfermedades.plot(kind='bar', title='Muertes con enfermedades')"
   ]
  },
  {
   "cell_type": "code",
   "execution_count": 48,
   "metadata": {},
   "outputs": [
    {
     "data": {
      "text/plain": [
       "<matplotlib.axes._subplots.AxesSubplot at 0x1a675308f48>"
      ]
     },
     "execution_count": 48,
     "metadata": {},
     "output_type": "execute_result"
    },
    {
     "data": {
      "image/png": "[encoded data removed]",
      "text/plain": [
       "<Figure size 432x288 with 1 Axes>"
      ]
     },
     "metadata": {},
     "output_type": "display_data"
    }
   ],
   "source": [
    "enfermedades.plot(kind='pie', title='Muertes con enfermedades')"
   ]
  },
  {
   "cell_type": "code",
   "execution_count": 49,
   "metadata": {},
   "outputs": [],
   "source": [
    "posDia = datos.loc[(datos['RESULTADO'] == 1) & (datos['DIABETES'] == 1) & (datos['INTUBADO'] == 1)]\n",
    "posEpoc = datos.loc[(datos['RESULTADO'] == 1) & (datos['EPOC'] == 1) & (datos['INTUBADO'] == 1)]\n",
    "posAsma = datos.loc[(datos['RESULTADO'] == 1) & (datos['ASMA'] == 1) & (datos['INTUBADO'] == 1)]\n",
    "posInm = datos.loc[(datos['RESULTADO'] == 1) & (datos['INMUSUPR'] == 1) & (datos['INTUBADO'] == 1)]\n",
    "posHiper = datos.loc[(datos['RESULTADO'] == 1) & (datos['HIPERTENSION'] == 1) & (datos['INTUBADO'] == 1)]\n",
    "posOtra = datos.loc[(datos['RESULTADO'] == 1) & (datos['OTRA_COM'] == 1) & (datos['INTUBADO'] == 1)]\n",
    "posCardio = datos.loc[(datos['RESULTADO'] == 1) & (datos['CARDIOVASCULAR'] == 1) & (datos['INTUBADO'] == 1)]\n",
    "posObe = datos.loc[(datos['RESULTADO'] == 1) & (datos['OBESIDAD'] == 1) & (datos['INTUBADO'] == 1)]\n",
    "posRenal = datos.loc[(datos['RESULTADO'] == 1) & (datos['RENAL_CRONICA'] == 1) & (datos['INTUBADO'] == 1)]\n",
    "posTab = datos.loc[(datos['RESULTADO'] == 1) & (datos['TABAQUISMO'] == 1) & (datos['INTUBADO'] == 1)]\n",
    "posnada = datos.loc[(datos['RESULTADO'] == 1) & (datos['DIABETES'] != 1) & (datos['EPOC'] != 1) & (datos['ASMA'] != 1) & (datos['INMUSUPR'] != 1) & (datos['HIPERTENSION'] != 1) & (datos['OTRA_COM'] != 1) & (datos['CARDIOVASCULAR'] != 1) & (datos['OBESIDAD'] != 1) & (datos['RENAL_CRONICA'] != 1) & (datos['TABAQUISMO'] != 1) & (datos['INTUBADO'] == 1)]\n",
    "\n",
    "diabetes = len(posDia)\n",
    "epoc = len(posEpoc)\n",
    "asma = len(posAsma)\n",
    "inmunu = len(posInm)\n",
    "hiper = len(posHiper)\n",
    "otra = len(posOtra)\n",
    "cardio = len(posCardio)\n",
    "obesidad = len(posObe)\n",
    "renal = len(posRenal)\n",
    "tabaq = len(posTab)\n",
    "nada = len(posnada)"
   ]
  },
  {
   "cell_type": "code",
   "execution_count": 50,
   "metadata": {},
   "outputs": [
    {
     "data": {
      "text/plain": [
       "<matplotlib.axes._subplots.AxesSubplot at 0x1a67531e348>"
      ]
     },
     "execution_count": 50,
     "metadata": {},
     "output_type": "execute_result"
    },
    {
     "data": {
      "image/png": "[encoded data removed]",
      "text/plain": [
       "<Figure size 432x288 with 1 Axes>"
      ]
     },
     "metadata": {
      "needs_background": "light"
     },
     "output_type": "display_data"
    }
   ],
   "source": [
    "enfermedades = pd.Series({\n",
    "    'Diabetes' : diabetes,\n",
    "    'EPOC' : epoc,\n",
    "    'ASMA' : asma,\n",
    "    'Inmusupresion' : inmunu,\n",
    "    'Hipertension' : hiper,\n",
    "    'Cardiobascular' : cardio,\n",
    "    'Obesidad' : obesidad,\n",
    "    'Renal' : renal,\n",
    "    'Tabaquismo' : tabaq,\n",
    "    'Otra' : otra,\n",
    "    'Ninguna enfermedad' : nada\n",
    "})\n",
    "enfermedades.plot(kind='bar', title='Entubados con enfermedades')"
   ]
  },
  {
   "cell_type": "code",
   "execution_count": 52,
   "metadata": {},
   "outputs": [
    {
     "data": {
      "text/plain": [
       "<matplotlib.axes._subplots.AxesSubplot at 0x1a687ddb3c8>"
      ]
     },
     "execution_count": 52,
     "metadata": {},
     "output_type": "execute_result"
    },
    {
     "data": {
      "image/png": "[encoded data removed]",
      "text/plain": [
       "<Figure size 432x288 with 1 Axes>"
      ]
     },
     "metadata": {
      "needs_background": "light"
     },
     "output_type": "display_data"
    }
   ],
   "source": [
    "enfermedades.plot(kind='line', title='Entubados con enfermedades')"
   ]
  },
  {
   "cell_type": "code",
   "execution_count": 53,
   "metadata": {},
   "outputs": [],
   "source": [
    "posnadaN = datos.loc[(datos['RESULTADO'] == 1) & (datos['DIABETES'] != 1) & (datos['EPOC'] != 1) & (datos['ASMA'] != 1) & (datos['INMUSUPR'] != 1) & (datos['HIPERTENSION'] != 1) & (datos['OTRA_COM'] != 1) & (datos['CARDIOVASCULAR'] != 1) & (datos['OBESIDAD'] != 1) & (datos['RENAL_CRONICA'] != 1) & (datos['TABAQUISMO'] != 1) & (datos['REGION'] == 'NORTE')]\n",
    "posnadaS = datos.loc[(datos['RESULTADO'] == 1) & (datos['DIABETES'] != 1) & (datos['EPOC'] != 1) & (datos['ASMA'] != 1) & (datos['INMUSUPR'] != 1) & (datos['HIPERTENSION'] != 1) & (datos['OTRA_COM'] != 1) & (datos['CARDIOVASCULAR'] != 1) & (datos['OBESIDAD'] != 1) & (datos['RENAL_CRONICA'] != 1) & (datos['TABAQUISMO'] != 1) & (datos['REGION'] == 'SUR')]\n",
    "posEnfN = datos.loc[(datos['RESULTADO'] == 1) & (datos['DIABETES'] == 1) | (datos['EPOC'] == 1) | (datos['ASMA'] == 1) | (datos['INMUSUPR'] == 1) | (datos['HIPERTENSION'] == 1) | (datos['OTRA_COM'] == 1) | (datos['CARDIOVASCULAR'] == 1) | (datos['OBESIDAD'] == 1) | (datos['RENAL_CRONICA'] == 1) | (datos['TABAQUISMO'] == 1) & (datos['REGION'] == 'NORTE')]\n",
    "posEnfN = datos.loc[(datos['RESULTADO'] == 1) & (datos['DIABETES'] == 1) | (datos['EPOC'] == 1) | (datos['ASMA'] == 1) | (datos['INMUSUPR'] == 1) | (datos['HIPERTENSION'] == 1) | (datos['OTRA_COM'] == 1) | (datos['CARDIOVASCULAR'] == 1) | (datos['OBESIDAD'] == 1) | (datos['RENAL_CRONICA'] == 1) | (datos['TABAQUISMO'] == 1) & (datos['REGION'] == 'SUR')]\n"
   ]
  },
  {
   "cell_type": "code",
   "execution_count": null,
   "metadata": {},
   "outputs": [],
   "source": [
    "deltas = mx_covid['Confirmed Cases']\n",
    "deltas = [deltas[x] if x == 0 else deltas[x]-deltas[x-1] for x in range(len(deltas))]\n",
    "fig, ax = plt.subplots(figsize=(20,8))\n",
    "ax.set_title('Confirmed cases delta')\n",
    "ax.plot(pd.to_datetime(mx_covid['Dates']), deltas,color='orange')\n",
    "ax.bar(pd.to_datetime(mx_covid['Dates']), deltas)\n",
    "for line, name in zip(ax.lines, ['MAX new cases']):\n",
    "    y = max(line.get_ydata())\n",
    "    ax.annotate('{} {}'.format(y, name), xy=(1,y), xytext=(6,0), color=line.get_color(), \n",
    "                xycoords = ax.get_yaxis_transform(), textcoords=\"offset points\",\n",
    "                size=14, va=\"center\")\n",
    "fig.autofmt_xdate()"
   ]
  }
 ],
 "metadata": {
  "kernelspec": {
   "display_name": "Python 3",
   "language": "python",
   "name": "python3"
  },
  "language_info": {
   "codemirror_mode": {
    "name": "ipython",
    "version": 3
   },
   "file_extension": ".py",
   "mimetype": "text/x-python",
   "name": "python",
   "nbconvert_exporter": "python",
   "pygments_lexer": "ipython3",
   "version": "3.7.6"
  }
 },
 "nbformat": 4,
 "nbformat_minor": 4
}
